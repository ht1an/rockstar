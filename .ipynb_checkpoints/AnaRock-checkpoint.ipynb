{
 "cells": [
  {
   "cell_type": "code",
   "execution_count": 1,
   "metadata": {
    "collapsed": true
   },
   "outputs": [],
   "source": [
    "# THIS IS USED TO ANALYSE THE OUTPUT FROM ROCKSTAR\n",
    "# TRANSLATED FROM IDL CODES OF HAO"
   ]
  },
  {
   "cell_type": "code",
   "execution_count": 2,
   "metadata": {
    "collapsed": true
   },
   "outputs": [],
   "source": [
    "%matplotlib inline\n",
    "import numpy as np\n",
    "import astropy.io.fits as fits\n",
    "import csv\n",
    "import matplotlib.pyplot as plt\n",
    "from matplotlib import cm\n",
    "import math as m\n",
    "import PyAstronomy as PA\n",
    "import galpy.util.bovy_coords as gub"
   ]
  },
  {
   "cell_type": "code",
   "execution_count": 3,
   "metadata": {
    "collapsed": true
   },
   "outputs": [],
   "source": [
    "# parameters\n",
    "dpath = \"/Users/htian/Documents/work/data/RockData/\"\n",
    "# fn_in = \"rockin_Aq_A_8_0_0_4.dat\"\n",
    "# fn_out = \"output_rockin_Aq_A_8_0_0_4_rock_10_1_1.txt\"\n",
    "fn_in = \"rock_input.dat\"\n",
    "fn_out = \"output_rock_input_rock_100_1_1.txt\"\n",
    "nptc = 100001 # partical number in each prg\n",
    "nprg = 33     # number of progenitors"
   ]
  },
  {
   "cell_type": "code",
   "execution_count": 4,
   "metadata": {},
   "outputs": [
    {
     "name": "stdout",
     "output_type": "stream",
     "text": [
      "A hierarchical tree with 10 levels was built by ROCKSTAR.\n",
      "1\n",
      "2\n",
      "3\n",
      "4\n",
      "5\n",
      "6\n",
      "7\n",
      "8\n",
      "9\n",
      "10\n"
     ]
    }
   ],
   "source": [
    "# load input data\n",
    "data_in = np.loadtxt(dpath+fn_in)\n",
    "x_in,y_in,z_in = data_in[:,0]*1000/0.7,data_in[:,1]*1000/0.7,data_in[:,2]*1000/0.7\n",
    "u_in,v_in,w_in = data_in[:,3],data_in[:,4],data_in[:,5]\n",
    "Lx = y_in * w_in - z_in * v_in\n",
    "Ly = z_in * u_in - x_in * w_in\n",
    "Lz = x_in * v_in - y_in * u_in\n",
    "Lxy = np.sqrt(Lx**2+Ly**2)\n",
    "\n",
    "\n",
    "\n",
    "\n",
    "partid = data_in[:,6]                           # particle ID in the full dataset\n",
    "prgid = (partid-partid%nptc)/nptc               # progenitor IDs of each particle\n",
    "np_in = len(x_in)\n",
    "# plt.scatter(u_in,v_in,s=1,c=(prgid*47)%255,alpha=1)\n",
    "# plt.plot(u_in,v_in,'k.',alpha=0.5,markersize=5)\n",
    "# plt.show()\n",
    "#  load output data \n",
    "pstt, psed, lvl, opid = np.loadtxt(dpath+fn_out,\\\n",
    "        dtype={'names':('pstt','psed','lvl','opid'),\\\n",
    "        'formats':(int,int,int,int)},unpack=True,\\\n",
    "                                  usecols=(0,1,3,4))\n",
    "# pstt, psed, lvl, opid = data_op[:,0],data_op[:,1], data_op[:,3],data_op[:,4]\n",
    "max_lvl = int(np.max(lvl))\n",
    "print('A hierarchical tree with {max_lvl} levels was built by ROCKSTAR.'.format(**locals()))\n",
    "rcd_lvl = np.zeros((np_in,max_lvl+1))-1\n",
    "for ilvl in range(0,max_lvl+1):\n",
    "    ind = lvl == ilvl\n",
    "    rcd_lvl[opid[ind],ilvl] = pstt[ind]\n",
    "np.savetxt(dpath+'rcd_lvl.txt',rcd_lvl)\n",
    "\n",
    "# rcd_lvl = np.load\n",
    "tag_part = np.zeros((np_in,max_lvl+1))-1\n",
    "trcd0 = rcd_lvl[:,0]\n",
    "u_trcd = np.unique(trcd0)\n",
    "tid = 0\n",
    "for i in range(0,len(u_trcd)):\n",
    "    indt = trcd0==u_trcd[i]\n",
    "    tag_part[indt,0] = tid\n",
    "    tid = tid+1\n",
    "for i in range(1,max_lvl+1):\n",
    "    print(i)\n",
    "    tid = 0\n",
    "    for j in range(0,i):\n",
    "        trcd1 = rcd_lvl[:,j]\n",
    "        if j < i-1 :\n",
    "            trcd2 = rcd_lvl[:,j+1]\n",
    "            ind_lvl = (trcd1 >= 0) & (trcd2==-1)\n",
    "            if len(trcd1[ind_lvl])>0 :\n",
    "                tlvl = trcd1[ind_lvl]\n",
    "                u_tlvl = np.unique(tlvl)\n",
    "                for k in range(0,len(u_tlvl)):\n",
    "                    ind = (trcd1==u_tlvl[k]) & (trcd2==-1)\n",
    "                    tag_part[ind,i] = tid\n",
    "                    tid = tid + 1\n",
    "        else:\n",
    "            ind_lvl = trcd1 >= 0\n",
    "            tlvl = trcd1[ind_lvl]\n",
    "            u_tlvl = np.unique(tlvl)\n",
    "            for k in range(0,len(u_tlvl)):\n",
    "                ind = (trcd1==u_tlvl[k])\n",
    "                tag_part[ind,i] = tid\n",
    "                tid = tid+1\n",
    "np.savetxt(dpath+\"tag_part.dat\",tag_part)"
   ]
  },
  {
   "cell_type": "code",
   "execution_count": 18,
   "metadata": {
    "scrolled": false
   },
   "outputs": [
    {
     "name": "stdout",
     "output_type": "stream",
     "text": [
      "1 2\n"
     ]
    },
    {
     "ename": "IndexError",
     "evalue": "index 20 is out of bounds for axis 0 with size 2",
     "output_type": "error",
     "traceback": [
      "\u001b[0;31m---------------------------------------------------------------------------\u001b[0m",
      "\u001b[0;31mIndexError\u001b[0m                                Traceback (most recent call last)",
      "\u001b[0;32m<ipython-input-18-641a4a2910a3>\u001b[0m in \u001b[0;36m<module>\u001b[0;34m()\u001b[0m\n\u001b[1;32m     18\u001b[0m     \u001b[0max2\u001b[0m \u001b[0;34m=\u001b[0m \u001b[0mfig\u001b[0m\u001b[0;34m.\u001b[0m\u001b[0madd_axes\u001b[0m\u001b[0;34m(\u001b[0m\u001b[0;34m[\u001b[0m\u001b[0;36m0.51\u001b[0m\u001b[0;34m,\u001b[0m\u001b[0;36m0.1\u001b[0m\u001b[0;34m,\u001b[0m\u001b[0;36m0.44\u001b[0m\u001b[0;34m,\u001b[0m\u001b[0;36m0.8\u001b[0m\u001b[0;34m]\u001b[0m\u001b[0;34m)\u001b[0m\u001b[0;34m\u001b[0m\u001b[0m\n\u001b[1;32m     19\u001b[0m     \u001b[0;32mfor\u001b[0m \u001b[0mi\u001b[0m \u001b[0;32min\u001b[0m \u001b[0mrange\u001b[0m\u001b[0;34m(\u001b[0m\u001b[0;36m20\u001b[0m\u001b[0;34m,\u001b[0m\u001b[0;36m30\u001b[0m\u001b[0;34m)\u001b[0m\u001b[0;34m:\u001b[0m\u001b[0;31m#ns-1):\u001b[0m\u001b[0;34m\u001b[0m\u001b[0m\n\u001b[0;32m---> 20\u001b[0;31m         \u001b[0mind\u001b[0m \u001b[0;34m=\u001b[0m \u001b[0mrlvl\u001b[0m\u001b[0;34m==\u001b[0m\u001b[0mssid\u001b[0m\u001b[0;34m[\u001b[0m\u001b[0mi\u001b[0m\u001b[0;34m]\u001b[0m\u001b[0;34m\u001b[0m\u001b[0m\n\u001b[0m\u001b[1;32m     21\u001b[0m         \u001b[0;32mif\u001b[0m \u001b[0mlen\u001b[0m\u001b[0;34m(\u001b[0m\u001b[0mrlvl\u001b[0m\u001b[0;34m[\u001b[0m\u001b[0mind\u001b[0m\u001b[0;34m]\u001b[0m\u001b[0;34m)\u001b[0m\u001b[0;34m<\u001b[0m\u001b[0;36m10000000\u001b[0m\u001b[0;34m:\u001b[0m\u001b[0;34m\u001b[0m\u001b[0m\n\u001b[1;32m     22\u001b[0m             \u001b[0max1\u001b[0m\u001b[0;34m.\u001b[0m\u001b[0mplot\u001b[0m\u001b[0;34m(\u001b[0m\u001b[0mu_in\u001b[0m\u001b[0;34m[\u001b[0m\u001b[0mind\u001b[0m\u001b[0;34m]\u001b[0m\u001b[0;34m,\u001b[0m\u001b[0mv_in\u001b[0m\u001b[0;34m[\u001b[0m\u001b[0mind\u001b[0m\u001b[0;34m]\u001b[0m\u001b[0;34m,\u001b[0m\u001b[0;34m'o'\u001b[0m\u001b[0;34m,\u001b[0m\u001b[0mmarkersize\u001b[0m\u001b[0;34m=\u001b[0m\u001b[0;36m3\u001b[0m\u001b[0;34m,\u001b[0m\u001b[0malpha\u001b[0m\u001b[0;34m=\u001b[0m\u001b[0;36m0.5\u001b[0m\u001b[0;34m)\u001b[0m\u001b[0;34m\u001b[0m\u001b[0m\n",
      "\u001b[0;31mIndexError\u001b[0m: index 20 is out of bounds for axis 0 with size 2"
     ]
    },
    {
     "data": {
      "image/png": "[encoded data removed]",
      "text/plain": [
       "<matplotlib.figure.Figure at 0x61c1d7cc0>"
      ]
     },
     "metadata": {},
     "output_type": "display_data"
    }
   ],
   "source": [
    "# plot results\n",
    "for plot_lvl in range(2，3):\n",
    "# plot_lvl = 2\n",
    "    rlvl = tag_part[:,plot_lvl]\n",
    "    # rlvl = rcd_lvl[:,plot_lvl]\n",
    "    sid = np.unique(rlvl)\n",
    "    ns = len(sid)\n",
    "    nmb_s = np.zeros(ns)\n",
    "    for i in range(0,ns):\n",
    "        nmb_s[i] = len(rlvl[rlvl==sid[i]])\n",
    "    sind = np.argsort(nmb_s)[::-1]\n",
    "    ssid = sid[sind]\n",
    "    snmb = nmb_s[sind]\n",
    "    print(plot_lvl,ns)\n",
    "    \n",
    "    fig = plt.figure(figsize=(10,4))\n",
    "    ax1 = fig.add_axes([0.05,0.1,0.44,0.8])\n",
    "    ax2 = fig.add_axes([0.51,0.1,0.44,0.8])\n",
    "    for i in range(20,30):#ns-1):\n",
    "        ind = rlvl==ssid[i]\n",
    "        if len(rlvl[ind])<10000000:\n",
    "            ax1.plot(u_in[ind],v_in[ind],'o',markersize=3,alpha=0.5)\n",
    "            ax2.plot(x_in[ind],y_in[ind],'o',markersize=3,alpha=0.5)\n",
    "#             ax1.axis([-400,400,-400,400])\n",
    "#             ax2.axis([-2000,2000,0,2000])\n",
    "#             plt.show()\n",
    "#             plt.close(all)\n",
    "#             del fig"
   ]
  },
  {
   "cell_type": "code",
   "execution_count": 6,
   "metadata": {},
   "outputs": [
    {
     "name": "stdout",
     "output_type": "stream",
     "text": [
      "[[ 0.  0.  0.]\n",
      " [ 0.  0.  0.]]\n"
     ]
    }
   ],
   "source": [
    "a = np.zeros((2,3))\n",
    "print(a)"
   ]
  },
  {
   "cell_type": "code",
   "execution_count": null,
   "metadata": {
    "collapsed": true
   },
   "outputs": [],
   "source": []
  }
 ],
 "metadata": {
  "kernelspec": {
   "display_name": "Python 3",
   "language": "python",
   "name": "python3"
  },
  "language_info": {
   "codemirror_mode": {
    "name": "ipython",
    "version": 3
   },
   "file_extension": ".py",
   "mimetype": "text/x-python",
   "name": "python",
   "nbconvert_exporter": "python",
   "pygments_lexer": "ipython3",
   "version": "3.6.3"
  }
 },
 "nbformat": 4,
 "nbformat_minor": 2
}
